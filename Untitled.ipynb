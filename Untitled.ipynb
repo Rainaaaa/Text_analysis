{
 "cells": [
  {
   "cell_type": "code",
   "execution_count": 215,
   "id": "17f25076",
   "metadata": {},
   "outputs": [],
   "source": [
    "from lxml import etree\n",
    "import urllib3\n",
    "import requests\n",
    "import re\n",
    "import pandas as pd\n",
    "import numpy as np\n",
    "import io\n",
    "import time\n",
    "from selenium import webdriver\n",
    "from selenium.webdriver.common.by import By\n",
    "\n",
    "url = \"https://www.rbi.org.in/scripts/Annualpolicy.aspx\"\n",
    "path = r'C://Users//raina//Dropbox//Chengjun//Text Analysis//' "
   ]
  },
  {
   "cell_type": "code",
   "execution_count": 216,
   "id": "66b78c04",
   "metadata": {},
   "outputs": [],
   "source": [
    "source_dict = np.load(path+'yearly_page_source.npy',allow_pickle=True).item()"
   ]
  },
  {
   "cell_type": "code",
   "execution_count": 217,
   "id": "6a490bb5",
   "metadata": {},
   "outputs": [],
   "source": [
    "header = {\n",
    "    \"User-Agent\": \"Mozilla/5.0 (Linux; Android 6.0; Nexus 5 Build/MRA58N) AppleWebKit/537.36 (KHTML, like Gecko) Chrome/108.0.0.0 Mobile Safari/537.36\",\n",
    "    \"Connection\": \"keep-alive\",\n",
    "    \"Accept\": \"*/*\",\n",
    "    \"Accept-Language\": \"en-US,en;q=0.9,zh-CN;q=0.8,zh;q=0.7\"}\n",
    "\n",
    "def get_html(header,url):\n",
    "    r = requests.get(url)\n",
    "    print(r)\n",
    "    r_text = r.text\n",
    "    html=etree.HTML(r_text)\n",
    "    return html"
   ]
  },
  {
   "cell_type": "code",
   "execution_count": 218,
   "id": "4c42a81e",
   "metadata": {},
   "outputs": [],
   "source": [
    "def process_file_names(file_list):\n",
    "    if len(file_list)==1:\n",
    "        return file_list\n",
    "    new_file_list = []\n",
    "    target = [\"Press Release\",\"Full Document\",\"Governor's Press Statement\",\"Photograph\",\"Full Statement\"]\n",
    "\n",
    "    \n",
    "    l = 0\n",
    "    r = 1\n",
    "    while r < len(file_list):\n",
    "        #print(file_list[l])\n",
    "        if file_list[l] not in target and file_list[r] not in target:\n",
    "            if r-l == 1:\n",
    "                #print(file_list[l])\n",
    "                new_file_list.append(file_list[l])\n",
    "            l=r\n",
    "            r+=1\n",
    "        elif file_list[l] not in target and file_list[r] in target:\n",
    "            new_file_list.append(file_list[l]+\"-\"+file_list[r])\n",
    "            r+=1     \n",
    "    if file_list[r-1] not in target:\n",
    "        new_file_list.append(file_list[r-1])\n",
    "    return new_file_list\n"
   ]
  },
  {
   "cell_type": "code",
   "execution_count": 219,
   "id": "c98adc26",
   "metadata": {},
   "outputs": [],
   "source": [
    "\"\"\"\n",
    "def process_file_names(file_list):\n",
    "    target = [\"Press Release\",\"Full Document\",\"Governor's Press Statement\"]\n",
    "    is_change = 0\n",
    "    is_target = 1\n",
    "    for i in range (1,len(file_list)):\n",
    "        if file_list[i] in target:\n",
    "            file_list[i] = file_list[0]+\"-\"+file_list[i]\n",
    "            is_change = 1\n",
    "    if is_change == 1:\n",
    "        file_list.pop(0)\n",
    "    return file_list\n",
    "\"\"\"\n",
    "\n",
    "\n",
    "\n",
    "def help_filter(s):\n",
    "    return re.sub(r'[^a-zA-Z0-9]', '', s)\n",
    "\n",
    "def get_file_info(html,path):\n",
    "    #'//*[@class=\"brd-ptable\"]//td//text()'\n",
    "    file_info = html.xpath(path)\n",
    "    file_info = list(filter(lambda x: help_filter(x) != \"\",file_info))\n",
    "    file_info = [re.sub(r' +', ' ', x).strip(\"\\n\").strip(\" \") for x in file_info ]\n",
    "    return file_info"
   ]
  },
  {
   "cell_type": "code",
   "execution_count": 220,
   "id": "914e183f",
   "metadata": {},
   "outputs": [],
   "source": [
    "def process_file_info(html,path):\n",
    "    \n",
    "    file_info = get_file_info(html,path)\n",
    "    \n",
    "    file_info_dict = {}\n",
    "    temp_date = \"\"\n",
    "\n",
    "    # retrive info\n",
    "    for i in range(len(file_info)):\n",
    "\n",
    "        if len(file_info[i]) == 12:\n",
    "            # process target name before change temp_date\n",
    "            if i!=0:\n",
    "                file_info_dict[temp_date][\"files\"] = process_file_names(file_info_dict[temp_date][\"files\"])\n",
    "\n",
    "            # update temp_date\n",
    "            temp_date = file_info[i]\n",
    "            file_info_dict[file_info[i]] = {\"title\":file_info[i+1],\n",
    "                                           \"files\":[]}\n",
    "\n",
    "        if len(file_info[i-1]) != 12 and len(file_info[i]) != 12:\n",
    "            file_info_dict[temp_date][\"files\"].append(file_info[i])\n",
    "\n",
    "\n",
    "    # process file name for the last date\n",
    "    file_info_dict[temp_date][\"files\"] = process_file_names(file_info_dict[temp_date][\"files\"])\n",
    "    return file_info_dict"
   ]
  },
  {
   "cell_type": "code",
   "execution_count": 221,
   "id": "79b9dc20",
   "metadata": {},
   "outputs": [],
   "source": [
    "# get_file_info_df:\n",
    "\n",
    "def get_file_info_df(file_info_dict):\n",
    "    data_dict = {\"date\":[],\"title\":[],\"file_name\":[]}\n",
    "    \n",
    "    for key,val in file_info_dict.items():\n",
    "        l = len(val[\"files\"])\n",
    "        data_dict['date'] = data_dict['date']+[key]*l\n",
    "        data_dict['title'] = data_dict['title']+[val[\"title\"]]*l\n",
    "        data_dict['file_name'] = data_dict['file_name']+val[\"files\"]\n",
    "\n",
    "    return pd.DataFrame(data_dict)"
   ]
  },
  {
   "cell_type": "code",
   "execution_count": 222,
   "id": "103a19a3",
   "metadata": {},
   "outputs": [],
   "source": [
    "def concat_link(s):\n",
    "    if \"http\" not in s.lower():\n",
    "        if '../' in s:\n",
    "            return \"https://www.rbi.org.in/\"+s[3:]\n",
    "        if s[0].islower():\n",
    "            return \"https://www.rbi.org.in/Scripts/\"+s\n",
    "        else:\n",
    "            return \"https://www.rbi.org.in/scripts/\"+s\n",
    "    return s"
   ]
  },
  {
   "cell_type": "code",
   "execution_count": 244,
   "id": "92eade25",
   "metadata": {},
   "outputs": [],
   "source": [
    "#get_script_list(\"2013-2014\")\n",
    "#2005-2006 之前的list需要更新\n",
    "year_id = \"1999-2000\"\n",
    "html = etree.HTML(source_dict[year_id])\n",
    "info_dict = process_file_info(html,'//*[@class=\"brd-ptable\"]//td//text()')\n",
    "df = get_file_info_df(info_dict)\n",
    "\n",
    "\n",
    "link = html.xpath('//*//td//a//@href')\n",
    "link = link[:-1]\n",
    "#link.pop(-4)\n",
    "\n",
    "df.to_csv(path+\"script_list//{}.csv\".format(year_id),index=0)\n"
   ]
  },
  {
   "cell_type": "code",
   "execution_count": 245,
   "id": "a9054c2d",
   "metadata": {},
   "outputs": [
    {
     "name": "stdout",
     "output_type": "stream",
     "text": [
      "6 4\n"
     ]
    }
   ],
   "source": [
    "print(len(df),len(link))"
   ]
  },
  {
   "cell_type": "code",
   "execution_count": 246,
   "id": "df29c746",
   "metadata": {},
   "outputs": [],
   "source": [
    "\n",
    "df = pd.read_csv(path+\"script_list//{}.csv\".format(year_id))\n",
    "df['file_link'] = link\n",
    "df['file_link'] = df['file_link'].apply(lambda s:concat_link(s))\n",
    "df['isScript'] = df['file_link'].apply(lambda s: 0 if (s == None) or (\"script\" not in s.lower()) else 1)\n",
    "\n",
    "df_script = df[df.isScript == 1].reset_index(drop = True)\n",
    "\n",
    "df_script.to_csv(path+\"script_list//{}.csv\".format(year_id),index=0)"
   ]
  },
  {
   "cell_type": "code",
   "execution_count": 247,
   "id": "ca9427b6",
   "metadata": {},
   "outputs": [
    {
     "data": {
      "text/html": [
       "<div>\n",
       "<style scoped>\n",
       "    .dataframe tbody tr th:only-of-type {\n",
       "        vertical-align: middle;\n",
       "    }\n",
       "\n",
       "    .dataframe tbody tr th {\n",
       "        vertical-align: top;\n",
       "    }\n",
       "\n",
       "    .dataframe thead th {\n",
       "        text-align: right;\n",
       "    }\n",
       "</style>\n",
       "<table border=\"1\" class=\"dataframe\">\n",
       "  <thead>\n",
       "    <tr style=\"text-align: right;\">\n",
       "      <th></th>\n",
       "      <th>date</th>\n",
       "      <th>title</th>\n",
       "      <th>file_name</th>\n",
       "      <th>file_link</th>\n",
       "      <th>isScript</th>\n",
       "    </tr>\n",
       "  </thead>\n",
       "  <tbody>\n",
       "    <tr>\n",
       "      <th>0</th>\n",
       "      <td>Nov 04, 2000</td>\n",
       "      <td>Mid-Term Review of Monetary and Credit Policy ...</td>\n",
       "      <td>RBI Governor announces Mid-Term Review of Mone...</td>\n",
       "      <td>https://www.rbi.org.in/scripts/BS_ViewMonetary...</td>\n",
       "      <td>1</td>\n",
       "    </tr>\n",
       "    <tr>\n",
       "      <th>1</th>\n",
       "      <td>May 03, 2000</td>\n",
       "      <td>Monetary and Credit Policy for the year 2000-2001</td>\n",
       "      <td>RBI Governor announces Monetary and Credit Pol...</td>\n",
       "      <td>https://www.rbi.org.in/scripts/BS_ViewMonetary...</td>\n",
       "      <td>1</td>\n",
       "    </tr>\n",
       "    <tr>\n",
       "      <th>2</th>\n",
       "      <td>Apr 27, 2000</td>\n",
       "      <td>Macroeconomic and Monetary Developments in 199...</td>\n",
       "      <td>Macroeconomic and Monetary Developments in 199...</td>\n",
       "      <td>https://www.rbi.org.in/scripts/BS_PressRelease...</td>\n",
       "      <td>1</td>\n",
       "    </tr>\n",
       "    <tr>\n",
       "      <th>3</th>\n",
       "      <td>Apr 27, 2000</td>\n",
       "      <td>Macroeconomic and Monetary Developments in 199...</td>\n",
       "      <td>Macroeconomic and Monetary Developments in 199...</td>\n",
       "      <td>https://www.rbi.org.in/scripts/AnnualPublicati...</td>\n",
       "      <td>1</td>\n",
       "    </tr>\n",
       "  </tbody>\n",
       "</table>\n",
       "</div>"
      ],
      "text/plain": [
       "           date                                              title  \\\n",
       "0  Nov 04, 2000  Mid-Term Review of Monetary and Credit Policy ...   \n",
       "1  May 03, 2000  Monetary and Credit Policy for the year 2000-2001   \n",
       "2  Apr 27, 2000  Macroeconomic and Monetary Developments in 199...   \n",
       "3  Apr 27, 2000  Macroeconomic and Monetary Developments in 199...   \n",
       "\n",
       "                                           file_name  \\\n",
       "0  RBI Governor announces Mid-Term Review of Mone...   \n",
       "1  RBI Governor announces Monetary and Credit Pol...   \n",
       "2  Macroeconomic and Monetary Developments in 199...   \n",
       "3  Macroeconomic and Monetary Developments in 199...   \n",
       "\n",
       "                                           file_link  isScript  \n",
       "0  https://www.rbi.org.in/scripts/BS_ViewMonetary...         1  \n",
       "1  https://www.rbi.org.in/scripts/BS_ViewMonetary...         1  \n",
       "2  https://www.rbi.org.in/scripts/BS_PressRelease...         1  \n",
       "3  https://www.rbi.org.in/scripts/AnnualPublicati...         1  "
      ]
     },
     "execution_count": 247,
     "metadata": {},
     "output_type": "execute_result"
    }
   ],
   "source": [
    "df"
   ]
  },
  {
   "cell_type": "code",
   "execution_count": null,
   "id": "77d8a359",
   "metadata": {},
   "outputs": [],
   "source": []
  }
 ],
 "metadata": {
  "kernelspec": {
   "display_name": "RL",
   "language": "python",
   "name": "rl"
  },
  "language_info": {
   "codemirror_mode": {
    "name": "ipython",
    "version": 3
   },
   "file_extension": ".py",
   "mimetype": "text/x-python",
   "name": "python",
   "nbconvert_exporter": "python",
   "pygments_lexer": "ipython3",
   "version": "3.8.13"
  }
 },
 "nbformat": 4,
 "nbformat_minor": 5
}
