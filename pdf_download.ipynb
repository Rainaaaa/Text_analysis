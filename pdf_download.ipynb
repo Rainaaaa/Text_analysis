{
 "cells": [
  {
   "cell_type": "code",
   "execution_count": 24,
   "id": "e638cf3d",
   "metadata": {},
   "outputs": [],
   "source": [
    "from lxml import etree\n",
    "import urllib3\n",
    "import requests\n",
    "import re\n",
    "import pandas as pd\n",
    "import numpy as np\n",
    "import io\n",
    "import time\n",
    "from selenium import webdriver\n",
    "from selenium.webdriver.common.by import By\n",
    "\n",
    "url = \"https://www.rbi.org.in/scripts/Annualpolicy.aspx\"\n",
    "path = r'C://Users//raina//Dropbox//Chengjun//Text Analysis//'"
   ]
  },
  {
   "cell_type": "code",
   "execution_count": 25,
   "id": "6c7eacd9",
   "metadata": {},
   "outputs": [],
   "source": [
    "source_dict = np.load(path+'yearly_page_source.npy',allow_pickle=True).item()"
   ]
  },
  {
   "cell_type": "code",
   "execution_count": 26,
   "id": "18c1dc5e",
   "metadata": {},
   "outputs": [],
   "source": [
    "header = {\n",
    "    \"User-Agent\": \"Mozilla/5.0 (Linux; Android 6.0; Nexus 5 Build/MRA58N) AppleWebKit/537.36 (KHTML, like Gecko) Chrome/108.0.0.0 Mobile Safari/537.36\",\n",
    "    \"Connection\": \"keep-alive\",\n",
    "    \"Accept\": \"*/*\",\n",
    "    \"Accept-Language\": \"en-US,en;q=0.9,zh-CN;q=0.8,zh;q=0.7\"}\n",
    "\n",
    "def get_html(header,url):\n",
    "    r = requests.get(url)\n",
    "    print(r)\n",
    "    r_text = r.text\n",
    "    html=etree.HTML(r_text)\n",
    "    return html"
   ]
  },
  {
   "cell_type": "code",
   "execution_count": 27,
   "id": "664fffa5",
   "metadata": {},
   "outputs": [],
   "source": [
    "def help_filter(s):\n",
    "    return re.sub(r'[^a-zA-Z0-9]', '', s)\n",
    "\n",
    "def get_file_info(html,path):\n",
    "    file_info = html.xpath(path)\n",
    "\n",
    "    file_info = list(filter(lambda x: help_filter(x) != \"\",file_info))\n",
    "    file_info = [re.sub(r' +', ' ', x) for x in file_info ]\n",
    "    target = [\"Press Release\",\"Full Document\",\"Governor's Press Statement\"]\n",
    "    count = 0\n",
    "    IsPreIn = 0\n",
    "    new_file_info = []\n",
    "    while count<len(file_info):\n",
    "        file_info[count] = file_info[count].strip(\" \")\n",
    "        # cur in target\n",
    "        if file_info[count] in target:\n",
    "            # pre not in target\n",
    "            if IsPreIn==0:\n",
    "                new_file_info = new_file_info[:-1]\n",
    "                new_file_info.append(file_info[count-1] +\"-\"+ file_info[count])\n",
    "            # pre in target\n",
    "            else:\n",
    "                new_file_info.append(file_info[count-2] +\"-\"+ file_info[count])\n",
    "        else:\n",
    "            new_file_info.append(file_info[count])\n",
    "        \n",
    "        count+=1\n",
    "    return new_file_info"
   ]
  },
  {
   "cell_type": "code",
   "execution_count": 28,
   "id": "874540d2",
   "metadata": {},
   "outputs": [],
   "source": [
    "def get_file_dict(file_info):\n",
    "    data_dict = {\n",
    "        \"date\":[],\n",
    "        \"title\":[],\n",
    "        \"file_name\":[]\n",
    "    }\n",
    "    date_pos = [i for i,info in enumerate(file_info) if len(info) == 12]\n",
    "    \n",
    "    \n",
    "    for i in range(len(date_pos)-1):\n",
    "        files_num = (date_pos[i+1]-date_pos[i])-2\n",
    "        data_dict['date']+= [file_info[date_pos[i]]]*files_num\n",
    "        data_dict['title']+= [file_info[date_pos[i]+1]]*files_num\n",
    "        data_dict['file_name']+= file_info[date_pos[i]+2:date_pos[i]+2+files_num]\n",
    "\n",
    "    files_num = (len(file_info)-date_pos[-1])-2\n",
    "    data_dict['date']+= [file_info[date_pos[-1]]]*files_num\n",
    "    data_dict['title']+= [file_info[date_pos[-1]+1]]*files_num\n",
    "    data_dict['file_name']+= file_info[date_pos[-1]+2:]\n",
    "\n",
    "    return data_dict"
   ]
  },
  {
   "cell_type": "code",
   "execution_count": 49,
   "id": "ce10ee23",
   "metadata": {},
   "outputs": [],
   "source": [
    "def concat_link(s):\n",
    "    if \"http\" not in s.lower():\n",
    "        if s[0].islower():\n",
    "            return \"https://www.rbi.org.in/Scripts/\"+s\n",
    "        else:\n",
    "            return \"https://www.rbi.org.in/scripts/\"+s\n",
    "    return s\n",
    "\n",
    "def get_script_list(year_id):\n",
    "    #source_dict['2023-2024']\n",
    "    html = etree.HTML(source_dict[year_id])\n",
    "    file_info = get_file_info(html,'//*[@class=\"brd-ptable\"]//td//text()')\n",
    "    df = pd.DataFrame(get_file_dict(file_info))\n",
    "\n",
    "    link = html.xpath('//*//td//a//@href')\n",
    "    link = link[:-1]\n",
    "    link = link+[None]*(len(df)-len(link))\n",
    "\n",
    "    df['file_link'] = link\n",
    "    df['file_link'] = df['file_link'].apply(lambda s:concat_link(s))\n",
    "    df['isScript'] = df['file_link'].apply(lambda s: 0 if (s == None) or (\"script\" not in s.lower()) else 1)\n",
    "\n",
    "    df_script = df[df.isScript == 1].reset_index(drop = True)\n",
    "\n",
    "    df_script.to_csv(path+\"script_list//{}.csv\".format(year_id),index=0)\n",
    "    \n",
    "    return df"
   ]
  },
  {
   "cell_type": "code",
   "execution_count": 52,
   "id": "0765d5a6",
   "metadata": {
    "jupyter": {
     "outputs_hidden": true
    },
    "tags": []
   },
   "outputs": [
    {
     "ename": "ValueError",
     "evalue": "Length of values (38) does not match length of index (36)",
     "output_type": "error",
     "traceback": [
      "\u001b[1;31m---------------------------------------------------------------------------\u001b[0m",
      "\u001b[1;31mValueError\u001b[0m                                Traceback (most recent call last)",
      "Cell \u001b[1;32mIn [52], line 3\u001b[0m\n\u001b[0;32m      1\u001b[0m \u001b[38;5;66;03m# Get all script lists and save as csv\u001b[39;00m\n\u001b[0;32m      2\u001b[0m year_id \u001b[38;5;241m=\u001b[39m \u001b[38;5;124m\"\u001b[39m\u001b[38;5;124m2014-2015\u001b[39m\u001b[38;5;124m\"\u001b[39m\n\u001b[1;32m----> 3\u001b[0m temp \u001b[38;5;241m=\u001b[39m \u001b[43mget_script_list\u001b[49m\u001b[43m(\u001b[49m\u001b[43myear_id\u001b[49m\u001b[43m)\u001b[49m\n\u001b[0;32m      5\u001b[0m temp\n",
      "Cell \u001b[1;32mIn [49], line 19\u001b[0m, in \u001b[0;36mget_script_list\u001b[1;34m(year_id)\u001b[0m\n\u001b[0;32m     16\u001b[0m link \u001b[38;5;241m=\u001b[39m link[:\u001b[38;5;241m-\u001b[39m\u001b[38;5;241m1\u001b[39m]\n\u001b[0;32m     17\u001b[0m link \u001b[38;5;241m=\u001b[39m link\u001b[38;5;241m+\u001b[39m[\u001b[38;5;28;01mNone\u001b[39;00m]\u001b[38;5;241m*\u001b[39m(\u001b[38;5;28mlen\u001b[39m(df)\u001b[38;5;241m-\u001b[39m\u001b[38;5;28mlen\u001b[39m(link))\n\u001b[1;32m---> 19\u001b[0m df[\u001b[38;5;124m'\u001b[39m\u001b[38;5;124mfile_link\u001b[39m\u001b[38;5;124m'\u001b[39m] \u001b[38;5;241m=\u001b[39m link\n\u001b[0;32m     20\u001b[0m df[\u001b[38;5;124m'\u001b[39m\u001b[38;5;124mfile_link\u001b[39m\u001b[38;5;124m'\u001b[39m] \u001b[38;5;241m=\u001b[39m df[\u001b[38;5;124m'\u001b[39m\u001b[38;5;124mfile_link\u001b[39m\u001b[38;5;124m'\u001b[39m]\u001b[38;5;241m.\u001b[39mapply(\u001b[38;5;28;01mlambda\u001b[39;00m s:concat_link(s))\n\u001b[0;32m     21\u001b[0m df[\u001b[38;5;124m'\u001b[39m\u001b[38;5;124misScript\u001b[39m\u001b[38;5;124m'\u001b[39m] \u001b[38;5;241m=\u001b[39m df[\u001b[38;5;124m'\u001b[39m\u001b[38;5;124mfile_link\u001b[39m\u001b[38;5;124m'\u001b[39m]\u001b[38;5;241m.\u001b[39mapply(\u001b[38;5;28;01mlambda\u001b[39;00m s: \u001b[38;5;241m0\u001b[39m \u001b[38;5;28;01mif\u001b[39;00m (s \u001b[38;5;241m==\u001b[39m \u001b[38;5;28;01mNone\u001b[39;00m) \u001b[38;5;129;01mor\u001b[39;00m (\u001b[38;5;124m\"\u001b[39m\u001b[38;5;124mscript\u001b[39m\u001b[38;5;124m\"\u001b[39m \u001b[38;5;129;01mnot\u001b[39;00m \u001b[38;5;129;01min\u001b[39;00m s\u001b[38;5;241m.\u001b[39mlower()) \u001b[38;5;28;01melse\u001b[39;00m \u001b[38;5;241m1\u001b[39m)\n",
      "File \u001b[1;32m~\\anaconda3\\envs\\RL\\lib\\site-packages\\pandas\\core\\frame.py:3977\u001b[0m, in \u001b[0;36mDataFrame.__setitem__\u001b[1;34m(self, key, value)\u001b[0m\n\u001b[0;32m   3974\u001b[0m     \u001b[38;5;28mself\u001b[39m\u001b[38;5;241m.\u001b[39m_setitem_array([key], value)\n\u001b[0;32m   3975\u001b[0m \u001b[38;5;28;01melse\u001b[39;00m:\n\u001b[0;32m   3976\u001b[0m     \u001b[38;5;66;03m# set column\u001b[39;00m\n\u001b[1;32m-> 3977\u001b[0m     \u001b[38;5;28;43mself\u001b[39;49m\u001b[38;5;241;43m.\u001b[39;49m\u001b[43m_set_item\u001b[49m\u001b[43m(\u001b[49m\u001b[43mkey\u001b[49m\u001b[43m,\u001b[49m\u001b[43m \u001b[49m\u001b[43mvalue\u001b[49m\u001b[43m)\u001b[49m\n",
      "File \u001b[1;32m~\\anaconda3\\envs\\RL\\lib\\site-packages\\pandas\\core\\frame.py:4171\u001b[0m, in \u001b[0;36mDataFrame._set_item\u001b[1;34m(self, key, value)\u001b[0m\n\u001b[0;32m   4161\u001b[0m \u001b[38;5;28;01mdef\u001b[39;00m \u001b[38;5;21m_set_item\u001b[39m(\u001b[38;5;28mself\u001b[39m, key, value) \u001b[38;5;241m-\u001b[39m\u001b[38;5;241m>\u001b[39m \u001b[38;5;28;01mNone\u001b[39;00m:\n\u001b[0;32m   4162\u001b[0m     \u001b[38;5;124;03m\"\"\"\u001b[39;00m\n\u001b[0;32m   4163\u001b[0m \u001b[38;5;124;03m    Add series to DataFrame in specified column.\u001b[39;00m\n\u001b[0;32m   4164\u001b[0m \n\u001b[1;32m   (...)\u001b[0m\n\u001b[0;32m   4169\u001b[0m \u001b[38;5;124;03m    ensure homogeneity.\u001b[39;00m\n\u001b[0;32m   4170\u001b[0m \u001b[38;5;124;03m    \"\"\"\u001b[39;00m\n\u001b[1;32m-> 4171\u001b[0m     value \u001b[38;5;241m=\u001b[39m \u001b[38;5;28;43mself\u001b[39;49m\u001b[38;5;241;43m.\u001b[39;49m\u001b[43m_sanitize_column\u001b[49m\u001b[43m(\u001b[49m\u001b[43mvalue\u001b[49m\u001b[43m)\u001b[49m\n\u001b[0;32m   4173\u001b[0m     \u001b[38;5;28;01mif\u001b[39;00m (\n\u001b[0;32m   4174\u001b[0m         key \u001b[38;5;129;01min\u001b[39;00m \u001b[38;5;28mself\u001b[39m\u001b[38;5;241m.\u001b[39mcolumns\n\u001b[0;32m   4175\u001b[0m         \u001b[38;5;129;01mand\u001b[39;00m value\u001b[38;5;241m.\u001b[39mndim \u001b[38;5;241m==\u001b[39m \u001b[38;5;241m1\u001b[39m\n\u001b[0;32m   4176\u001b[0m         \u001b[38;5;129;01mand\u001b[39;00m \u001b[38;5;129;01mnot\u001b[39;00m is_extension_array_dtype(value)\n\u001b[0;32m   4177\u001b[0m     ):\n\u001b[0;32m   4178\u001b[0m         \u001b[38;5;66;03m# broadcast across multiple columns if necessary\u001b[39;00m\n\u001b[0;32m   4179\u001b[0m         \u001b[38;5;28;01mif\u001b[39;00m \u001b[38;5;129;01mnot\u001b[39;00m \u001b[38;5;28mself\u001b[39m\u001b[38;5;241m.\u001b[39mcolumns\u001b[38;5;241m.\u001b[39mis_unique \u001b[38;5;129;01mor\u001b[39;00m \u001b[38;5;28misinstance\u001b[39m(\u001b[38;5;28mself\u001b[39m\u001b[38;5;241m.\u001b[39mcolumns, MultiIndex):\n",
      "File \u001b[1;32m~\\anaconda3\\envs\\RL\\lib\\site-packages\\pandas\\core\\frame.py:4904\u001b[0m, in \u001b[0;36mDataFrame._sanitize_column\u001b[1;34m(self, value)\u001b[0m\n\u001b[0;32m   4901\u001b[0m     \u001b[38;5;28;01mreturn\u001b[39;00m _reindex_for_setitem(Series(value), \u001b[38;5;28mself\u001b[39m\u001b[38;5;241m.\u001b[39mindex)\n\u001b[0;32m   4903\u001b[0m \u001b[38;5;28;01mif\u001b[39;00m is_list_like(value):\n\u001b[1;32m-> 4904\u001b[0m     \u001b[43mcom\u001b[49m\u001b[38;5;241;43m.\u001b[39;49m\u001b[43mrequire_length_match\u001b[49m\u001b[43m(\u001b[49m\u001b[43mvalue\u001b[49m\u001b[43m,\u001b[49m\u001b[43m \u001b[49m\u001b[38;5;28;43mself\u001b[39;49m\u001b[38;5;241;43m.\u001b[39;49m\u001b[43mindex\u001b[49m\u001b[43m)\u001b[49m\n\u001b[0;32m   4905\u001b[0m \u001b[38;5;28;01mreturn\u001b[39;00m sanitize_array(value, \u001b[38;5;28mself\u001b[39m\u001b[38;5;241m.\u001b[39mindex, copy\u001b[38;5;241m=\u001b[39m\u001b[38;5;28;01mTrue\u001b[39;00m, allow_2d\u001b[38;5;241m=\u001b[39m\u001b[38;5;28;01mTrue\u001b[39;00m)\n",
      "File \u001b[1;32m~\\anaconda3\\envs\\RL\\lib\\site-packages\\pandas\\core\\common.py:561\u001b[0m, in \u001b[0;36mrequire_length_match\u001b[1;34m(data, index)\u001b[0m\n\u001b[0;32m    557\u001b[0m \u001b[38;5;124;03m\"\"\"\u001b[39;00m\n\u001b[0;32m    558\u001b[0m \u001b[38;5;124;03mCheck the length of data matches the length of the index.\u001b[39;00m\n\u001b[0;32m    559\u001b[0m \u001b[38;5;124;03m\"\"\"\u001b[39;00m\n\u001b[0;32m    560\u001b[0m \u001b[38;5;28;01mif\u001b[39;00m \u001b[38;5;28mlen\u001b[39m(data) \u001b[38;5;241m!=\u001b[39m \u001b[38;5;28mlen\u001b[39m(index):\n\u001b[1;32m--> 561\u001b[0m     \u001b[38;5;28;01mraise\u001b[39;00m \u001b[38;5;167;01mValueError\u001b[39;00m(\n\u001b[0;32m    562\u001b[0m         \u001b[38;5;124m\"\u001b[39m\u001b[38;5;124mLength of values \u001b[39m\u001b[38;5;124m\"\u001b[39m\n\u001b[0;32m    563\u001b[0m         \u001b[38;5;124mf\u001b[39m\u001b[38;5;124m\"\u001b[39m\u001b[38;5;124m(\u001b[39m\u001b[38;5;132;01m{\u001b[39;00m\u001b[38;5;28mlen\u001b[39m(data)\u001b[38;5;132;01m}\u001b[39;00m\u001b[38;5;124m) \u001b[39m\u001b[38;5;124m\"\u001b[39m\n\u001b[0;32m    564\u001b[0m         \u001b[38;5;124m\"\u001b[39m\u001b[38;5;124mdoes not match length of index \u001b[39m\u001b[38;5;124m\"\u001b[39m\n\u001b[0;32m    565\u001b[0m         \u001b[38;5;124mf\u001b[39m\u001b[38;5;124m\"\u001b[39m\u001b[38;5;124m(\u001b[39m\u001b[38;5;132;01m{\u001b[39;00m\u001b[38;5;28mlen\u001b[39m(index)\u001b[38;5;132;01m}\u001b[39;00m\u001b[38;5;124m)\u001b[39m\u001b[38;5;124m\"\u001b[39m\n\u001b[0;32m    566\u001b[0m     )\n",
      "\u001b[1;31mValueError\u001b[0m: Length of values (38) does not match length of index (36)"
     ]
    }
   ],
   "source": [
    "\n",
    "\n",
    "# Get all script lists and save as csv\n",
    "year_id = \"2014-2015\"\n",
    "temp = get_script_list(year_id)\n",
    "\n",
    "temp"
   ]
  },
  {
   "cell_type": "code",
   "execution_count": 174,
   "id": "9fff5dd7",
   "metadata": {
    "tags": []
   },
   "outputs": [
    {
     "data": {
      "text/html": [
       "<div>\n",
       "<style scoped>\n",
       "    .dataframe tbody tr th:only-of-type {\n",
       "        vertical-align: middle;\n",
       "    }\n",
       "\n",
       "    .dataframe tbody tr th {\n",
       "        vertical-align: top;\n",
       "    }\n",
       "\n",
       "    .dataframe thead th {\n",
       "        text-align: right;\n",
       "    }\n",
       "</style>\n",
       "<table border=\"1\" class=\"dataframe\">\n",
       "  <thead>\n",
       "    <tr style=\"text-align: right;\">\n",
       "      <th></th>\n",
       "      <th>date</th>\n",
       "      <th>title</th>\n",
       "      <th>file_name</th>\n",
       "    </tr>\n",
       "  </thead>\n",
       "  <tbody>\n",
       "    <tr>\n",
       "      <th>0</th>\n",
       "      <td>Jan 24, 2006</td>\n",
       "      <td>Third Quarter Review of Annual Monetary Policy...</td>\n",
       "      <td>Statement by Dr. Y. Venugopal Reddy, Governor,...</td>\n",
       "    </tr>\n",
       "    <tr>\n",
       "      <th>1</th>\n",
       "      <td>Jan 24, 2006</td>\n",
       "      <td>Third Quarter Review of Annual Monetary Policy...</td>\n",
       "      <td>Full Statement</td>\n",
       "    </tr>\n",
       "    <tr>\n",
       "      <th>2</th>\n",
       "      <td>Jan 24, 2006</td>\n",
       "      <td>Third Quarter Review of Annual Monetary Policy...</td>\n",
       "      <td>Webcasting of Governor's Press Conference</td>\n",
       "    </tr>\n",
       "    <tr>\n",
       "      <th>3</th>\n",
       "      <td>Jan 23, 2006</td>\n",
       "      <td>Macroeconomic and Monetary Developments - Thir...</td>\n",
       "      <td>Press Release-Full Document</td>\n",
       "    </tr>\n",
       "    <tr>\n",
       "      <th>4</th>\n",
       "      <td>Oct 25, 2005</td>\n",
       "      <td>Mid-Term Review of Annual Policy Statement 200...</td>\n",
       "      <td>RBI Governor announces Mid-Term Review of Annu...</td>\n",
       "    </tr>\n",
       "    <tr>\n",
       "      <th>5</th>\n",
       "      <td>Oct 25, 2005</td>\n",
       "      <td>Mid-Term Review of Annual Policy Statement 200...</td>\n",
       "      <td>Full Statement</td>\n",
       "    </tr>\n",
       "    <tr>\n",
       "      <th>6</th>\n",
       "      <td>Oct 25, 2005</td>\n",
       "      <td>Mid-Term Review of Annual Policy Statement 200...</td>\n",
       "      <td>Webcasting of Governor's Press Conference</td>\n",
       "    </tr>\n",
       "    <tr>\n",
       "      <th>7</th>\n",
       "      <td>Oct 24, 2005</td>\n",
       "      <td>Macroeconomic and Monetary Developments - Mid ...</td>\n",
       "      <td>Press Release-Full Document</td>\n",
       "    </tr>\n",
       "    <tr>\n",
       "      <th>8</th>\n",
       "      <td>Jul 26, 2005</td>\n",
       "      <td>First Quarter Review of Annual Statement on Mo...</td>\n",
       "      <td>First Quarter Review of Annual Statement on Mo...</td>\n",
       "    </tr>\n",
       "    <tr>\n",
       "      <th>9</th>\n",
       "      <td>Jul 26, 2005</td>\n",
       "      <td>First Quarter Review of Annual Statement on Mo...</td>\n",
       "      <td>Full Statement</td>\n",
       "    </tr>\n",
       "    <tr>\n",
       "      <th>10</th>\n",
       "      <td>Jul 25, 2005</td>\n",
       "      <td>Macroeconomic and Monetary Developments - Firs...</td>\n",
       "      <td>Press Release-Full Document</td>\n",
       "    </tr>\n",
       "    <tr>\n",
       "      <th>11</th>\n",
       "      <td>Apr 28, 2005</td>\n",
       "      <td>Annual Policy Statement for the year 2005-2006</td>\n",
       "      <td>RBI Governor announces Annual Policy Statement...</td>\n",
       "    </tr>\n",
       "    <tr>\n",
       "      <th>12</th>\n",
       "      <td>Apr 28, 2005</td>\n",
       "      <td>Annual Policy Statement for the year 2005-2006</td>\n",
       "      <td>Full Statement</td>\n",
       "    </tr>\n",
       "    <tr>\n",
       "      <th>13</th>\n",
       "      <td>Apr 27, 2005</td>\n",
       "      <td>Macroeconomic and Monetary Developments - 2004-05</td>\n",
       "      <td>Press Release-Full Document</td>\n",
       "    </tr>\n",
       "  </tbody>\n",
       "</table>\n",
       "</div>"
      ],
      "text/plain": [
       "            date                                              title  \\\n",
       "0   Jan 24, 2006  Third Quarter Review of Annual Monetary Policy...   \n",
       "1   Jan 24, 2006  Third Quarter Review of Annual Monetary Policy...   \n",
       "2   Jan 24, 2006  Third Quarter Review of Annual Monetary Policy...   \n",
       "3   Jan 23, 2006  Macroeconomic and Monetary Developments - Thir...   \n",
       "4   Oct 25, 2005  Mid-Term Review of Annual Policy Statement 200...   \n",
       "5   Oct 25, 2005  Mid-Term Review of Annual Policy Statement 200...   \n",
       "6   Oct 25, 2005  Mid-Term Review of Annual Policy Statement 200...   \n",
       "7   Oct 24, 2005  Macroeconomic and Monetary Developments - Mid ...   \n",
       "8   Jul 26, 2005  First Quarter Review of Annual Statement on Mo...   \n",
       "9   Jul 26, 2005  First Quarter Review of Annual Statement on Mo...   \n",
       "10  Jul 25, 2005  Macroeconomic and Monetary Developments - Firs...   \n",
       "11  Apr 28, 2005     Annual Policy Statement for the year 2005-2006   \n",
       "12  Apr 28, 2005     Annual Policy Statement for the year 2005-2006   \n",
       "13  Apr 27, 2005  Macroeconomic and Monetary Developments - 2004-05   \n",
       "\n",
       "                                            file_name  \n",
       "0   Statement by Dr. Y. Venugopal Reddy, Governor,...  \n",
       "1                                      Full Statement  \n",
       "2           Webcasting of Governor's Press Conference  \n",
       "3                         Press Release-Full Document  \n",
       "4   RBI Governor announces Mid-Term Review of Annu...  \n",
       "5                                      Full Statement  \n",
       "6           Webcasting of Governor's Press Conference  \n",
       "7                         Press Release-Full Document  \n",
       "8   First Quarter Review of Annual Statement on Mo...  \n",
       "9                                      Full Statement  \n",
       "10                        Press Release-Full Document  \n",
       "11  RBI Governor announces Annual Policy Statement...  \n",
       "12                                     Full Statement  \n",
       "13                        Press Release-Full Document  "
      ]
     },
     "execution_count": 174,
     "metadata": {},
     "output_type": "execute_result"
    }
   ],
   "source": [
    "#get_script_list(\"2013-2014\")\n",
    "year_id = \"2005-2006\"\n",
    "html = etree.HTML(source_dict[year_id])\n",
    "file_info = get_file_info(html,'//*[@class=\"brd-ptable\"]//td//text()')\n",
    "df = pd.DataFrame(get_file_dict(file_info))\n",
    "\n",
    "df"
   ]
  },
  {
   "cell_type": "code",
   "execution_count": 175,
   "id": "924661a7",
   "metadata": {},
   "outputs": [
    {
     "data": {
      "text/plain": [
       "17"
      ]
     },
     "execution_count": 175,
     "metadata": {},
     "output_type": "execute_result"
    }
   ],
   "source": [
    "\n",
    "link = html.xpath('//*//td//a//@href')\n",
    "link = link[:-1]\n",
    "link = link+[None]*(len(df)-len(link))\n",
    "len(link)"
   ]
  },
  {
   "cell_type": "markdown",
   "id": "ec40c5c7",
   "metadata": {},
   "source": [
    "# Download"
   ]
  },
  {
   "cell_type": "code",
   "execution_count": 8,
   "id": "0b526413",
   "metadata": {},
   "outputs": [],
   "source": [
    "def download_pdf(header,save_path,pdf_name,pdf_url):\n",
    "    response = requests.get(pdf_url, headers=header)\n",
    "    bytes_io = io.BytesIO(response.content)\n",
    "    with open(save_path + \"%s.PDF\" % pdf_name, mode='wb') as f:\n",
    "        f.write(bytes_io.getvalue())\n",
    "        print('%s.PDF, Download Successed！' % (pdf_name))"
   ]
  },
  {
   "cell_type": "code",
   "execution_count": 9,
   "id": "b464840f",
   "metadata": {},
   "outputs": [],
   "source": [
    "def download_txt(text,txt_name,txt_path):\n",
    "    with open(txt_path+txt_name,'w') as f:\n",
    "        f.write(str(text))\n",
    "    print('%s.Text, Download Successed！' % (txt_name))"
   ]
  },
  {
   "cell_type": "code",
   "execution_count": 196,
   "id": "022e4c94",
   "metadata": {},
   "outputs": [],
   "source": [
    "ID = \"2000-2002\""
   ]
  },
  {
   "cell_type": "code",
   "execution_count": 200,
   "id": "daeb01fd",
   "metadata": {},
   "outputs": [
    {
     "name": "stdout",
     "output_type": "stream",
     "text": [
      "5\n",
      "<Response [200]>\n",
      "5-[Apr 19, 2001-Macroeconomic and Monetary Developments in 2000-2001] Macroeconomic and Monetary Developments in 2000-2001-Press Release.PDF, Download Successed！\n",
      "6\n",
      "<Response [200]>\n"
     ]
    },
    {
     "ename": "IndexError",
     "evalue": "list index out of range",
     "output_type": "error",
     "traceback": [
      "\u001b[1;31m---------------------------------------------------------------------------\u001b[0m",
      "\u001b[1;31mIndexError\u001b[0m                                Traceback (most recent call last)",
      "Cell \u001b[1;32mIn [200], line 9\u001b[0m\n\u001b[0;32m      7\u001b[0m file_title_info \u001b[38;5;241m=\u001b[39m file_html\u001b[38;5;241m.\u001b[39mxpath(\u001b[38;5;124m'\u001b[39m\u001b[38;5;124m//*[@class=\u001b[39m\u001b[38;5;124m\"\u001b[39m\u001b[38;5;124mtableheader\u001b[39m\u001b[38;5;124m\"\u001b[39m\u001b[38;5;124m]//text()\u001b[39m\u001b[38;5;124m'\u001b[39m)\n\u001b[0;32m      8\u001b[0m file_content \u001b[38;5;241m=\u001b[39m file_html\u001b[38;5;241m.\u001b[39mxpath(\u001b[38;5;124m'\u001b[39m\u001b[38;5;124m//*[@class=\u001b[39m\u001b[38;5;124m\"\u001b[39m\u001b[38;5;124mtablecontent1\u001b[39m\u001b[38;5;124m\"\u001b[39m\u001b[38;5;124m]//p//text()\u001b[39m\u001b[38;5;124m'\u001b[39m)\n\u001b[1;32m----> 9\u001b[0m pdf_url \u001b[38;5;241m=\u001b[39m \u001b[43mfile_html\u001b[49m\u001b[38;5;241;43m.\u001b[39;49m\u001b[43mxpath\u001b[49m\u001b[43m(\u001b[49m\u001b[38;5;124;43m'\u001b[39;49m\u001b[38;5;124;43m//*[@class=\u001b[39;49m\u001b[38;5;124;43m\"\u001b[39;49m\u001b[38;5;124;43mtableheader\u001b[39;49m\u001b[38;5;124;43m\"\u001b[39;49m\u001b[38;5;124;43m]//a//@href\u001b[39;49m\u001b[38;5;124;43m'\u001b[39;49m\u001b[43m)\u001b[49m\u001b[43m[\u001b[49m\u001b[38;5;241;43m0\u001b[39;49m\u001b[43m]\u001b[49m\n\u001b[0;32m     11\u001b[0m path \u001b[38;5;241m=\u001b[39m \u001b[38;5;124mr\u001b[39m\u001b[38;5;124m'\u001b[39m\u001b[38;5;124mC://Users//raina//Dropbox//Chengjun//Text Analysis//download_scrips//\u001b[39m\u001b[38;5;132;01m%s\u001b[39;00m\u001b[38;5;124m//\u001b[39m\u001b[38;5;124m'\u001b[39m\u001b[38;5;241m%\u001b[39mID\n\u001b[0;32m     13\u001b[0m name\u001b[38;5;241m=\u001b[39m \u001b[38;5;28mstr\u001b[39m(i\u001b[38;5;241m+\u001b[39m\u001b[38;5;241m1\u001b[39m)\u001b[38;5;241m+\u001b[39m\u001b[38;5;124m\"\u001b[39m\u001b[38;5;124m-[\u001b[39m\u001b[38;5;124m\"\u001b[39m\u001b[38;5;241m+\u001b[39mdf[\u001b[38;5;124m'\u001b[39m\u001b[38;5;124mdate\u001b[39m\u001b[38;5;124m'\u001b[39m][i]\u001b[38;5;241m+\u001b[39m\u001b[38;5;124m\"\u001b[39m\u001b[38;5;124m-\u001b[39m\u001b[38;5;124m\"\u001b[39m\u001b[38;5;241m+\u001b[39mdf[\u001b[38;5;124m'\u001b[39m\u001b[38;5;124mtitle\u001b[39m\u001b[38;5;124m'\u001b[39m][i]\u001b[38;5;241m+\u001b[39m\u001b[38;5;124m\"\u001b[39m\u001b[38;5;124m]\u001b[39m\u001b[38;5;124m\"\u001b[39m\u001b[38;5;241m+\u001b[39m\u001b[38;5;124m\"\u001b[39m\u001b[38;5;124m \u001b[39m\u001b[38;5;124m\"\u001b[39m\u001b[38;5;241m+\u001b[39mdf[\u001b[38;5;124m'\u001b[39m\u001b[38;5;124mfile_name\u001b[39m\u001b[38;5;124m'\u001b[39m][i]\n",
      "\u001b[1;31mIndexError\u001b[0m: list index out of range"
     ]
    }
   ],
   "source": [
    "df = pd.read_csv(\"C://Users//raina//Dropbox//Chengjun//Text Analysis//script_list//%s.csv\"%ID)\n",
    "for i in range(4,len(df)):\n",
    "    print(i+1)\n",
    "    file_url = df['file_link'][i]\n",
    "    file_html = get_html(header,file_url)\n",
    "    \n",
    "    file_title_info = file_html.xpath('//*[@class=\"tableheader\"]//text()')\n",
    "    file_content = file_html.xpath('//*[@class=\"tablecontent1\"]//p//text()')\n",
    "    pdf_url = file_html.xpath('//*[@class=\"tableheader\"]//a//@href')[0]\n",
    "    \n",
    "    path = r'C://Users//raina//Dropbox//Chengjun//Text Analysis//download_scrips//%s//'%ID\n",
    "    \n",
    "    name= str(i+1)+\"-[\"+df['date'][i]+\"-\"+df['title'][i]+\"]\"+\" \"+df['file_name'][i]\n",
    "    \n",
    "    if len(name)>170:\n",
    "        name = name[:-(len(name)-170)]\n",
    "        \n",
    "        \n",
    "    download_pdf(header,path, name, pdf_url = pdf_url )\n",
    "    #download_txt(file_content,name,path)"
   ]
  },
  {
   "cell_type": "code",
   "execution_count": null,
   "id": "65bd63fb",
   "metadata": {},
   "outputs": [],
   "source": [
    "len(df)"
   ]
  },
  {
   "cell_type": "code",
   "execution_count": null,
   "id": "c2073f9d",
   "metadata": {},
   "outputs": [],
   "source": []
  }
 ],
 "metadata": {
  "kernelspec": {
   "display_name": "RL",
   "language": "python",
   "name": "rl"
  },
  "language_info": {
   "codemirror_mode": {
    "name": "ipython",
    "version": 3
   },
   "file_extension": ".py",
   "mimetype": "text/x-python",
   "name": "python",
   "nbconvert_exporter": "python",
   "pygments_lexer": "ipython3",
   "version": "3.8.13"
  }
 },
 "nbformat": 4,
 "nbformat_minor": 5
}
