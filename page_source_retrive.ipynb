{
 "cells": [
  {
   "cell_type": "code",
   "execution_count": 127,
   "id": "ba852e6a",
   "metadata": {},
   "outputs": [],
   "source": [
    "from lxml import etree\n",
    "import urllib3\n",
    "import requests\n",
    "import re\n",
    "import pandas as pd\n",
    "import numpy as np\n",
    "import io\n",
    "import time\n",
    "from selenium import webdriver\n",
    "from selenium.webdriver.common.by import By"
   ]
  },
  {
   "cell_type": "code",
   "execution_count": 9,
   "id": "bd343450",
   "metadata": {},
   "outputs": [
    {
     "data": {
      "text/plain": [
       "'\\n    headers = {\\n        \"Host\": \"interface.sina.cn\",\\n        \"User-Agent\": \"Mozilla/5.0 (Windows NT 10.0; Win64; x64; rv:74.0) Gecko/20100101 Firefox/74.0\",\\n        \"Accept\": \"*/*\",\\n        \"Accept-Language\": \"zh-CN,zh;q=0.8,zh-TW;q=0.7,zh-HK;q=0.5,en-US;q=0.3,en;q=0.2\",\\n        \"Accept-Encoding\": \"gzip, deflate, br\",\\n        \"Connection\": \"keep-alive\",\\n        \"Referer\": r\"http://www.sina.com.cn/mid/search.shtml?range=all&c=news&q=%E6%97%85%E6%B8%B8&from=home&ie=utf-8\",\\n        \"Cookie\": \"ustat=__172.16.93.31_1580710312_0.68442000; genTime=1580710312; vt=99; Apache=9855012519393.69.1585552043971; SINAGLOBAL=9855012519393.69.1585552043971; ULV=1585552043972:1:1:1:9855012519393.69.1585552043971:; historyRecord={\\'href\\':\\'https://news.sina.cn/\\',\\'refer\\':\\'https://sina.cn/\\'}; SMART=0; dfz_loc=gd-default\",\\n        \"TE\": \"Trailers\"\\n    }\\n'"
      ]
     },
     "execution_count": 9,
     "metadata": {},
     "output_type": "execute_result"
    }
   ],
   "source": [
    "#date_title = html.xpath('//*[@class=\"tableheader\"]//text()')\n",
    "# file_name & link (one to one)\n",
    "#file_name = get_file_info(html,'//*//td[2]//text()')\n",
    "'''\n",
    "    headers = {\n",
    "        \"Host\": \"interface.sina.cn\",\n",
    "        \"User-Agent\": \"Mozilla/5.0 (Windows NT 10.0; Win64; x64; rv:74.0) Gecko/20100101 Firefox/74.0\",\n",
    "        \"Accept\": \"*/*\",\n",
    "        \"Accept-Language\": \"zh-CN,zh;q=0.8,zh-TW;q=0.7,zh-HK;q=0.5,en-US;q=0.3,en;q=0.2\",\n",
    "        \"Accept-Encoding\": \"gzip, deflate, br\",\n",
    "        \"Connection\": \"keep-alive\",\n",
    "        \"Referer\": r\"http://www.sina.com.cn/mid/search.shtml?range=all&c=news&q=%E6%97%85%E6%B8%B8&from=home&ie=utf-8\",\n",
    "        \"Cookie\": \"ustat=__172.16.93.31_1580710312_0.68442000; genTime=1580710312; vt=99; Apache=9855012519393.69.1585552043971; SINAGLOBAL=9855012519393.69.1585552043971; ULV=1585552043972:1:1:1:9855012519393.69.1585552043971:; historyRecord={'href':'https://news.sina.cn/','refer':'https://sina.cn/'}; SMART=0; dfz_loc=gd-default\",\n",
    "        \"TE\": \"Trailers\"\n",
    "    }\n",
    "'''"
   ]
  },
  {
   "cell_type": "code",
   "execution_count": 10,
   "id": "1b0d81e2",
   "metadata": {},
   "outputs": [],
   "source": [
    "header = {\n",
    "    \"User-Agent\": \"Mozilla/5.0 (Linux; Android 6.0; Nexus 5 Build/MRA58N) AppleWebKit/537.36 (KHTML, like Gecko) Chrome/108.0.0.0 Mobile Safari/537.36\",\n",
    "    \"Connection\": \"keep-alive\",\n",
    "    \"Accept\": \"*/*\",\n",
    "    \"Accept-Language\": \"en-US,en;q=0.9,zh-CN;q=0.8,zh;q=0.7\"}"
   ]
  },
  {
   "cell_type": "code",
   "execution_count": 11,
   "id": "12a3ff0c",
   "metadata": {},
   "outputs": [],
   "source": [
    "url = \"https://www.rbi.org.in/scripts/Annualpolicy.aspx\"\n",
    "def get_html(header,url):\n",
    "    r = requests.get(url)\n",
    "    print(r)\n",
    "    r_text = r.text\n",
    "    html=etree.HTML(r_text)\n",
    "    return html"
   ]
  },
  {
   "cell_type": "code",
   "execution_count": 12,
   "id": "b8266173",
   "metadata": {},
   "outputs": [],
   "source": [
    "def help_filter(s):\n",
    "    return re.sub(r'[^a-zA-Z0-9]', '', s)\n",
    "\n",
    "def get_file_info(html,path):\n",
    "    file_info = html.xpath(path)\n",
    "\n",
    "    file_info = list(filter(lambda x: help_filter(x) != \"\",file_info))\n",
    "    target = [\"Press Release\",\"Full Document\"]\n",
    "    count = 0\n",
    "    IsPreIn = 0\n",
    "    new_file_info = []\n",
    "    while count<len(file_info):\n",
    "        file_info[count] = file_info[count].strip(\" \")\n",
    "        # cur in target\n",
    "        if file_info[count] in target:\n",
    "            # pre not in target\n",
    "            if IsPreIn==0:\n",
    "                new_file_info = new_file_info[:-1]\n",
    "                new_file_info.append(file_info[count-1] +\"-\"+ file_info[count])\n",
    "            # pre in target\n",
    "            else:\n",
    "                new_file_info.append(file_info[count-2] +\"-\"+ file_info[count])\n",
    "        else:\n",
    "            new_file_info.append(file_info[count])\n",
    "        \n",
    "        count+=1\n",
    "    return new_file_info"
   ]
  },
  {
   "cell_type": "code",
   "execution_count": 13,
   "id": "dcd42adc",
   "metadata": {},
   "outputs": [],
   "source": [
    "def get_file_dict(file_info):\n",
    "    data_dict = {\n",
    "        \"date\":[],\n",
    "        \"title\":[],\n",
    "        \"file_name\":[]\n",
    "    }\n",
    "    date_pos = [i for i,info in enumerate(file_info) if len(info) == 12]\n",
    "    \n",
    "    \n",
    "    for i in range(len(date_pos)-1):\n",
    "        files_num = (date_pos[i+1]-date_pos[i])-2\n",
    "        data_dict['date']+= [file_info[date_pos[i]]]*files_num\n",
    "        data_dict['title']+= [file_info[date_pos[i]+1]]*files_num\n",
    "        data_dict['file_name']+= file_info[date_pos[i]+2:date_pos[i]+2+files_num]\n",
    "\n",
    "    files_num = (len(file_info)-date_pos[-1])-2\n",
    "    data_dict['date']+= [file_info[date_pos[-1]]]*files_num\n",
    "    data_dict['title']+= [file_info[date_pos[-1]+1]]*files_num\n",
    "    data_dict['file_name']+= file_info[date_pos[-1]+2:]\n",
    "\n",
    "    return data_dict"
   ]
  },
  {
   "cell_type": "code",
   "execution_count": 16,
   "id": "3869e1ee",
   "metadata": {},
   "outputs": [
    {
     "name": "stdout",
     "output_type": "stream",
     "text": [
      "<Response [200]>\n"
     ]
    }
   ],
   "source": [
    "html = get_html(header,url)\n",
    "file_info = get_file_info(html,'//*[@class=\"brd-ptable\"]//td//text()')\n",
    "df = pd.DataFrame(get_file_dict(file_info))\n",
    "\n",
    "link = html.xpath('//*//td//a//@href')\n",
    "link = link[:-1]\n",
    "link = link+[None]*(len(df)-len(link))\n",
    "\n",
    "df['file_link'] = link\n",
    "df['isScript'] = df['file_link'].apply(lambda s: 0 if (s == None) or (\"script\" not in s.lower()) else 1)"
   ]
  },
  {
   "cell_type": "code",
   "execution_count": 36,
   "id": "9fdafef2",
   "metadata": {},
   "outputs": [],
   "source": [
    "df_script = df[df.isScript == 1].reset_index(drop = True)"
   ]
  },
  {
   "cell_type": "markdown",
   "id": "0c1886df",
   "metadata": {},
   "source": [
    "# Get Script Content"
   ]
  },
  {
   "cell_type": "code",
   "execution_count": 81,
   "id": "654b9cec",
   "metadata": {},
   "outputs": [
    {
     "name": "stdout",
     "output_type": "stream",
     "text": [
      "<Response [200]>\n"
     ]
    }
   ],
   "source": [
    "# Get script content\n",
    "file_url = df_script['file_link'][0]\n",
    "file_html = get_html(header,file_url)"
   ]
  },
  {
   "cell_type": "code",
   "execution_count": 332,
   "id": "ad8a6469",
   "metadata": {},
   "outputs": [],
   "source": [
    "file_title_info = file_html.xpath('//*[@class=\"tableheader\"]//text()')\n",
    "file_content = file_html.xpath('//*[@class=\"tablecontent1\"]//p//text()')\n",
    "pdf_url = file_html.xpath('//*[@class=\"tableheader\"]//a//@href')[0]"
   ]
  },
  {
   "cell_type": "code",
   "execution_count": 329,
   "id": "c734b82d",
   "metadata": {},
   "outputs": [],
   "source": [
    "def download_pdf(header,save_path,pdf_name,pdf_url):\n",
    "    response = requests.get(pdf_url, headers=header)\n",
    "    bytes_io = io.BytesIO(response.content)\n",
    "    with open(save_path + \"%s.PDF\" % pdf_name, mode='wb') as f:\n",
    "        f.write(bytes_io.getvalue())\n",
    "        print('%s.PDF, Download Successed！' % (pdf_name))"
   ]
  },
  {
   "cell_type": "code",
   "execution_count": 336,
   "id": "e39910b5",
   "metadata": {},
   "outputs": [
    {
     "name": "stdout",
     "output_type": "stream",
     "text": [
      "Minutes of the Monetary Policy Committee.PDF, Download Successed！\n"
     ]
    }
   ],
   "source": [
    "path = r'C://Users//raina//Dropbox//Chengjun//Text Analysis//download_scrips//2021-2022//'\n",
    "name= df_script['title'][0]\n",
    "#pdf_url=\"http://static.cninfo.com.cn/finalpage/2008-03-27/38334292.PDF\"\n",
    "download_pdf(header,path, name, pdf_url = pdf_url )"
   ]
  },
  {
   "cell_type": "markdown",
   "id": "9afa0b63",
   "metadata": {},
   "source": [
    "# Simulate user click"
   ]
  },
  {
   "cell_type": "code",
   "execution_count": 171,
   "id": "600ef65c",
   "metadata": {},
   "outputs": [],
   "source": [
    "def get_page(driver,item):\n",
    "    \"\"\"\n",
    "        INPUTS:\n",
    "            item: onclick item\n",
    "        RETURNS:\n",
    "            html object of the web page\n",
    "    \"\"\"\n",
    "    # Waiting for the response\n",
    "    time.sleep(10)\n",
    "    driver.find_element(By.ID, item).click()\n",
    "    return driver.page_source"
   ]
  },
  {
   "cell_type": "code",
   "execution_count": 172,
   "id": "06afed99",
   "metadata": {},
   "outputs": [],
   "source": [
    "# Obtain page source and store the html into a dictionary\n",
    "\n",
    "def get_all_page(url):\n",
    "    # get year tree and onclick id\n",
    "    html = get_html(header,url)\n",
    "    \n",
    "    # year tree\n",
    "    year_list = html.xpath('//*[@class=\"grid_tree archives alpha\"]//text()')\n",
    "    year_list.pop(10)\n",
    "    \n",
    "    # onclick_id\n",
    "    onclick_id = html.xpath('//*[@class=\"grid_tree archives alpha\"]//@id')\n",
    "    del onclick_id[0]\n",
    "    del onclick_id[10:13]\n",
    "\n",
    "    print('\\n')\n",
    "    print('year_list:', year_list)\n",
    "    print('\\n')\n",
    "    print('onclick_id:', onclick_id)\n",
    "    print('\\n')\n",
    "    \n",
    "    print(\"==== processing by years ====\")\n",
    "    source_dict = {}\n",
    "    \n",
    "    # create web object\n",
    "    driver = webdriver.Chrome()\n",
    "    driver.get(url)\n",
    "    \n",
    "    for i in range(len(year_list)):\n",
    "        # click to expand archive\n",
    "        if onclick_id[i]==\"2014\":\n",
    "            time.sleep(10)\n",
    "            driver.find_element(By.ID, \"divArchiveMain\").click()\n",
    "            \n",
    "        source_dict[year_list[i]] = get_page(driver,onclick_id[i])\n",
    "        print(onclick_id[i]+\":\",year_list[i],\"finished\")\n",
    "    \n",
    "    np.save(r'C://Users//raina//Dropbox//Chengjun//Text Analysis//yearly_page_source.npy',source_dict)\n",
    "    return source_dict"
   ]
  },
  {
   "cell_type": "code",
   "execution_count": 173,
   "id": "a1c7ad27",
   "metadata": {},
   "outputs": [
    {
     "name": "stdout",
     "output_type": "stream",
     "text": [
      "<Response [200]>\n",
      "\n",
      "\n",
      "year_list: ['2023-2024', '2022-2023', '2021-2022', '2020-2021', '2019-2020', '2018-2019', '2017-2018', '2016-2017', '2015-2016', '2014-2015', '2013-2014', '2012-2013', '2011-2012', '2010-2011', '2009-2010', '2008-2009', '2007-2008', '2006-2007', '2005-2006', '2004-2005', '2003-2004', '2002-2003', '2001-2002', '2000-2001', '1999-2000', '1936-1999']\n",
      "\n",
      "\n",
      "onclick_id: ['2024', '2023', '2022', '2021', '2020', '2019', '2018', '2017', '2016', '2015', '2014', '2013', '2012', '2011', '2010', '2009', '2008', '2007', '2006', '2005', '2004', '2003', '2002', '2001', '2000', '1999']\n",
      "\n",
      "\n",
      "==== processing by years ====\n",
      "2024: 2023-2024 finished\n",
      "2023: 2022-2023 finished\n",
      "2022: 2021-2022 finished\n",
      "2021: 2020-2021 finished\n",
      "2020: 2019-2020 finished\n",
      "2019: 2018-2019 finished\n",
      "2018: 2017-2018 finished\n",
      "2017: 2016-2017 finished\n",
      "2016: 2015-2016 finished\n",
      "2015: 2014-2015 finished\n",
      "2014: 2013-2014 finished\n",
      "2013: 2012-2013 finished\n",
      "2012: 2011-2012 finished\n",
      "2011: 2010-2011 finished\n",
      "2010: 2009-2010 finished\n",
      "2009: 2008-2009 finished\n",
      "2008: 2007-2008 finished\n",
      "2007: 2006-2007 finished\n",
      "2006: 2005-2006 finished\n",
      "2005: 2004-2005 finished\n",
      "2004: 2003-2004 finished\n",
      "2003: 2002-2003 finished\n",
      "2002: 2001-2002 finished\n",
      "2001: 2000-2001 finished\n",
      "2000: 1999-2000 finished\n",
      "1999: 1936-1999 finished\n"
     ]
    }
   ],
   "source": [
    "url = \"https://www.rbi.org.in/scripts/Annualpolicy.aspx\"\n",
    "source_dict = get_all_page(url)"
   ]
  }
 ],
 "metadata": {
  "kernelspec": {
   "display_name": "Python 3 (ipykernel)",
   "language": "python",
   "name": "python3"
  },
  "language_info": {
   "codemirror_mode": {
    "name": "ipython",
    "version": 3
   },
   "file_extension": ".py",
   "mimetype": "text/x-python",
   "name": "python",
   "nbconvert_exporter": "python",
   "pygments_lexer": "ipython3",
   "version": "3.9.13"
  }
 },
 "nbformat": 4,
 "nbformat_minor": 5
}
